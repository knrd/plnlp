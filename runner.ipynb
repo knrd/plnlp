{
 "cells": [
  {
   "cell_type": "code",
   "execution_count": 1,
   "metadata": {},
   "outputs": [
    {
     "name": "stderr",
     "output_type": "stream",
     "text": [
      "/home/conda/anaconda3/lib/python3.6/site-packages/h5py/__init__.py:36: FutureWarning: Conversion of the second argument of issubdtype from `float` to `np.floating` is deprecated. In future, it will be treated as `np.float64 == np.dtype(float).type`.\n",
      "  from ._conv import register_converters as _register_converters\n"
     ]
    }
   ],
   "source": [
    "from train import *"
   ]
  },
  {
   "cell_type": "code",
   "execution_count": 2,
   "metadata": {},
   "outputs": [],
   "source": [
    "use_cuda = True\n",
    "\n",
    "model = \"lstm\"\n",
    "hidden_size = 100\n",
    "lr = '0.01'\n",
    "model_label = 'e_2000-m_%s-lr_%s-hs_%d-nl-2_ver-3' % (model, lr, hidden_size)"
   ]
  },
  {
   "cell_type": "code",
   "execution_count": 3,
   "metadata": {},
   "outputs": [],
   "source": [
    "content = FileReader('shakespeare.txt')"
   ]
  },
  {
   "cell_type": "code",
   "execution_count": 4,
   "metadata": {},
   "outputs": [],
   "source": [
    "t = Trainer(content_reader=content, model=model, hidden_size=hidden_size, cuda=use_cuda)"
   ]
  },
  {
   "cell_type": "code",
   "execution_count": 16,
   "metadata": {},
   "outputs": [
    {
     "name": "stdout",
     "output_type": "stream",
     "text": [
      "Loading saved model models/shakespeare_e_2000-m_lstm-lr_0.01-hs_100-nl-2_ver-3.pt\n",
      "Training e_2000-m_lstm-lr_0.01-hs_100-nl-2_ver-4 for 2000 epochs...\n"
     ]
    },
    {
     "name": "stderr",
     "output_type": "stream",
     "text": [
      "loss=1.23767: 100%|██████████| 2000/2000 [15:07<00:00,  2.20it/s]"
     ]
    },
    {
     "name": "stdout",
     "output_type": "stream",
     "text": [
      "Saving...\n",
      "Saved as models/shakespeare_e_2000-m_lstm-lr_0.01-hs_100-nl-2_ver-4.pt\n"
     ]
    },
    {
     "name": "stderr",
     "output_type": "stream",
     "text": [
      "\n"
     ]
    }
   ],
   "source": [
    "t.train(float(lr), n_epochs=2000, train_saved_model=model_label, version=4)"
   ]
  },
  {
   "cell_type": "code",
   "execution_count": 17,
   "metadata": {},
   "outputs": [],
   "source": [
    "m = torch.load('models/shakespeare_e_2000-m_lstm-lr_0.01-hs_100-nl-2_ver-3.pt')"
   ]
  },
  {
   "cell_type": "code",
   "execution_count": 29,
   "metadata": {},
   "outputs": [
    {
     "data": {
      "text/plain": [
       "False"
      ]
     },
     "execution_count": 29,
     "metadata": {},
     "output_type": "execute_result"
    }
   ],
   "source": [
    "next(m.parameters()).is_cuda"
   ]
  },
  {
   "cell_type": "code",
   "execution_count": 5,
   "metadata": {},
   "outputs": [],
   "source": [
    "m2 = torch.load('models/shakespeare_e_5-m_lstm-lr_0.01-hs_100-nl-2.pt')"
   ]
  },
  {
   "cell_type": "code",
   "execution_count": 6,
   "metadata": {},
   "outputs": [
    {
     "data": {
      "text/plain": [
       "False"
      ]
     },
     "execution_count": 6,
     "metadata": {},
     "output_type": "execute_result"
    }
   ],
   "source": [
    "next(m2.parameters()).is_cuda"
   ]
  },
  {
   "cell_type": "code",
   "execution_count": 7,
   "metadata": {},
   "outputs": [
    {
     "name": "stdout",
     "output_type": "stream",
     "text": [
      "Loading saved model models/shakespeare_e_5-m_lstm-lr_0.01-hs_100-nl-2.pt\n",
      "Training e_6-m_lstm-lr_0.01-hs_100-nl-2_ver-11 for 6 epochs...\n"
     ]
    },
    {
     "name": "stderr",
     "output_type": "stream",
     "text": [
      "loss=3.03766: 100%|██████████| 6/6 [00:02<00:00,  2.17it/s]"
     ]
    },
    {
     "name": "stdout",
     "output_type": "stream",
     "text": [
      "Saving...\n",
      "Saved as models/shakespeare_e_6-m_lstm-lr_0.01-hs_100-nl-2_ver-11.pt\n"
     ]
    },
    {
     "name": "stderr",
     "output_type": "stream",
     "text": [
      "\n"
     ]
    }
   ],
   "source": [
    "t.train(float(lr), n_epochs=6, train_saved_model='e_5-m_lstm-lr_0.01-hs_100-nl-2', version=11)"
   ]
  },
  {
   "cell_type": "code",
   "execution_count": 16,
   "metadata": {},
   "outputs": [
    {
     "name": "stdout",
     "output_type": "stream",
     "text": [
      "AQzRufI3 tm\n",
      "rais o nh\n",
      "ctht\n",
      " rl , ,edtlo  rad\n",
      "in gntan trirh\n",
      "oo das relseitthfng    it\n",
      "hmoap   oo\n",
      "edayyeetlan oa aruo tiaa heei&wehtrh \n",
      "n et ateoee fatey tahetn p io toi  ri ehiousoy hoy\n",
      "ualyeh \n",
      "yw e ehalat e\n",
      "d\n",
      "t oa n a tii\n",
      "artoa r dhs tl:m\n",
      "i bia\n",
      "lrnonesoe rtdom omulkan  dhlre lprtreyt htm \n",
      "atlon'etrllaa lr n he ene  aet r n  ectdezo   \n",
      "trea ee ti raht\n",
      "ba tit roo  neurhhf lfd atedr llt neha e trtophio aha Z r:Iaiti ayo h tf eyeotaae rei auol tss\n",
      "ehmee ibg o aetras  dte i atsoe  i,pesnno e eot ea sr'  nlm \n",
      "tnrettte o taarhoReu hk aa ai I !oeeh taay fhwidutoto  y srtm nis\n",
      " i atalhdl aoettnrc  taio\n",
      "oedra ade eat\n",
      "a o eei  nhthhltm ehat etatreoieedo iaetahe nm \n",
      "sSt\n",
      "r  h ttg heay artoeor  ytaeeo o crmae  tteytagi\n",
      "h lfrnonte n taunlsco oil t  \n",
      "rae tth eiti yasaed\n",
      " ha  tthr ruthtyyc  iia ioht\n",
      "io\n",
      "eea twe  ae,cdrgdrhao,E tinerh s,:e.  etrhfehn dho hpg btm aamaf shtI ltaa a  \n",
      "lo a:tee eh e ydea nI  sth trmtb hhdttestn ttd oX  r oenriI   e osee bhrsaorf  hisirs etQntodore\n",
      "he snhv\n",
      "el h\n",
      "h iuahvya ni' \n"
     ]
    }
   ],
   "source": [
    "print(generate(m2, content_reader=content, predict_len=1000))"
   ]
  }
 ],
 "metadata": {
  "kernelspec": {
   "display_name": "Python 3",
   "language": "python",
   "name": "python3"
  },
  "language_info": {
   "codemirror_mode": {
    "name": "ipython",
    "version": 3
   },
   "file_extension": ".py",
   "mimetype": "text/x-python",
   "name": "python",
   "nbconvert_exporter": "python",
   "pygments_lexer": "ipython3",
   "version": "3.6.5"
  }
 },
 "nbformat": 4,
 "nbformat_minor": 2
}
