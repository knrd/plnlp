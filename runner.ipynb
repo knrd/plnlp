{
 "cells": [
  {
   "cell_type": "code",
   "execution_count": 1,
   "metadata": {},
   "outputs": [
    {
     "name": "stderr",
     "output_type": "stream",
     "text": [
      "/home/conda/anaconda3/lib/python3.6/site-packages/h5py/__init__.py:36: FutureWarning: Conversion of the second argument of issubdtype from `float` to `np.floating` is deprecated. In future, it will be treated as `np.float64 == np.dtype(float).type`.\n",
      "  from ._conv import register_converters as _register_converters\n"
     ]
    }
   ],
   "source": [
    "from train import *"
   ]
  },
  {
   "cell_type": "code",
   "execution_count": 2,
   "metadata": {},
   "outputs": [],
   "source": [
    "use_cuda = True\n",
    "\n",
    "model = \"lstm\"\n",
    "hidden_size = 256\n",
    "lr = '0.007'\n",
    "model_label = 'e_2000-m_%s-lr_%s-hs_%d-nl-2_ver-3' % (model, lr, hidden_size)"
   ]
  },
  {
   "cell_type": "code",
   "execution_count": 3,
   "metadata": {},
   "outputs": [
    {
     "data": {
      "text/plain": [
       "\"\\x00\\n !'()*,-.03:;?ABCDEFGHIJKLMNOPRSTUVWXYZabcdefghijklmnoprstuvwyzèóąćęŁłńŚśźŻż–—”„…\""
      ]
     },
     "execution_count": 3,
     "metadata": {},
     "output_type": "execute_result"
    }
   ],
   "source": [
    "content = FileReader('content', 'przygody-tomka-sawyera.txt')\n",
    "content.char_dict"
   ]
  },
  {
   "cell_type": "code",
   "execution_count": 4,
   "metadata": {},
   "outputs": [],
   "source": [
    "t = Trainer(content_reader=content, model=model, hidden_size=hidden_size, cuda=use_cuda)"
   ]
  },
  {
   "cell_type": "code",
   "execution_count": null,
   "metadata": {},
   "outputs": [
    {
     "name": "stdout",
     "output_type": "stream",
     "text": [
      "Training przygody-tomka-sawyera--e_400-m_lstm-lr_0.01-hs_256-nl-2_ver-dropout_02v2 for 400 epochs...\n"
     ]
    },
    {
     "name": "stderr",
     "output_type": "stream",
     "text": [
      "loss=2.13012:  69%|██████▉   | 277/400 [03:30<01:33,  1.32it/s]"
     ]
    }
   ],
   "source": [
    "t.train(float(lr), n_epochs=400, version=\"dropout_02v2\")"
   ]
  },
  {
   "cell_type": "code",
   "execution_count": null,
   "metadata": {
    "scrolled": false
   },
   "outputs": [],
   "source": [
    "t.train(float(lr), n_epochs=100, version=3)"
   ]
  },
  {
   "cell_type": "code",
   "execution_count": 8,
   "metadata": {},
   "outputs": [
    {
     "name": "stdout",
     "output_type": "stream",
     "text": [
      "Olo Angela. Oczywiście pieczar. Wyglądała tak chwycił za sobą i chrząszcz w ciągu porządnie i sprawy.\n",
      "\n",
      "— Chyba nie miał pochlipywał jego miasta, przywiązał Becky i zaczął usiadł i mieli spotkania stanie pastor podniósł się na niego oczu warstwa. Był tylko i wyglądał na jego zwycięstwa. Nawet nie mam klapów. Kiedy wyjaśnienie na to potrzebujesz, występująca za nimi, tak dalej. Musiała mu przez otwartymi słowocznie i on nie ma całą wyraźnie na tyle dopiero dwie cichutko. Nagle zaczął się chodzi, szepnął z pogardę i zaczął potem podniosła do własnym nie będzie zawołał:\n",
      "\n",
      "— Nie, nie ma o czym masztę ciotka Polly zabierzemy drzwiami, ale teraz w tej stronie i w końcu w ogóle nie przeszedł za minutę, przeskakarstwa pod numerem w ten sposób, a potem powiedział:\n",
      "\n",
      "— Tak, ale wszyscy to wszystkie szczęście i odczuć ciotki nie mam nic się rozpaczliwie na to potrzebuje się na płacz. Naturalny korytarze i w końcu i szepnął:\n",
      "\n",
      "— Ależ było tylko nie wiem, które pomyślałem do brzegu. Nie mają nas pochlipywać się do wody pod pragnione udręczenie i wycieczki i podali się z tym wierzył w koniec drugi nie miał takiego koszuli. Sid, przerażeni za to przedtem i w końcu tu przyjacielskie argumenty i zaczął w końcu do szkoły do wystąpieniu i poszedł do czasu do tego! Nie wiedział, że jest tu przyprowadziły się na niego i słyszałem nie było w ciemności. Gdy Tomek wybuchnęła takie strasznych korytarza w pobliżu i starał się bardzo przyprawiono jakiś widziałem sprawiała się na nich kolach, ale nikomu na ciebie sprawiała się przed nim okrzykami od siebie, pod którym zaniepokojenia klownemu miasta, obrazi, co to przyszła na trwogi i wyjawienia od razu powiedział:\n",
      "\n",
      "— Coś tu. Co mogli się szybko odwróciła się cicho w głąb urokierki i klowniejszym chłopców oznajmiając się kilka dniach wystąpili się w każdym słyszałem w swoim przemówienia całkiem na to ochoty nie powiedzieć postanowili się na podłogę chwila powiedzieli o tym nie zapomniałem jednak on nie przejmuj od tego nie wierzę, jak będziesz mi powieszą twarz chodzić i wycieczki i oddali się pod którym się pod którym mieszkanie się na jakieś cholernym miasteczka i pocieszenia i odpocząć przed gościem nie mogę ci się cię tak wszystkie udawał, że natychmiast przyszło mu chwilę i zaczął małe miasta, które nie powiedział… chciał się w drogę i obudziła się na nią nie pochwały. Zaczęła do góry i klasa przebiegała się z nim kartki. Zawsze wierzę, w którym wierzyła za szczęście nie miał nieprzyjaciel się chce tylko na dobre i zaczął w kierunku wycieczki. Postanowił głowę i w której pamiętnych stanowili na drogę widocznie występująca do góry i widzisz? Przypomniał jego domu sprawiedliwie i szkolne koniec zapadła z powrotem i powiedzieć?\n",
      "\n",
      "— Nie ma cisowych dzieci i nie ma na kolanach kulkę, nie zapomniała się wokół obok niego wszystkich strach dziwne zdradzieckie sprawiedliwił się z wyraźnie w jego świata i w niedzielę, przecież do tej kazanie nadziei, że jak największość z niewielkie swoje bohatersa piękną tego uwagi i od starczyłości. Przypomnia\n"
     ]
    }
   ],
   "source": [
    "print(generate(t.get_cpu_decoder_copy(), prime_str='Olo Angela.', predict_len=3000, temperature=.5))"
   ]
  },
  {
   "cell_type": "code",
   "execution_count": 5,
   "metadata": {},
   "outputs": [],
   "source": [
    "m2 = torch.load('models/shakespeare_e_2000-m_lstm-lr_0.01-hs_100-nl-2.pt')"
   ]
  },
  {
   "cell_type": "code",
   "execution_count": 6,
   "metadata": {},
   "outputs": [
    {
     "data": {
      "text/plain": [
       "False"
      ]
     },
     "execution_count": 6,
     "metadata": {},
     "output_type": "execute_result"
    }
   ],
   "source": [
    "next(m2.parameters()).is_cuda"
   ]
  },
  {
   "cell_type": "code",
   "execution_count": 7,
   "metadata": {},
   "outputs": [
    {
     "name": "stdout",
     "output_type": "stream",
     "text": [
      "Loading saved model models/shakespeare_e_5-m_lstm-lr_0.01-hs_100-nl-2.pt\n",
      "Training e_6-m_lstm-lr_0.01-hs_100-nl-2_ver-11 for 6 epochs...\n"
     ]
    },
    {
     "name": "stderr",
     "output_type": "stream",
     "text": [
      "loss=3.03766: 100%|██████████| 6/6 [00:02<00:00,  2.17it/s]"
     ]
    },
    {
     "name": "stdout",
     "output_type": "stream",
     "text": [
      "Saving...\n",
      "Saved as models/shakespeare_e_6-m_lstm-lr_0.01-hs_100-nl-2_ver-11.pt\n"
     ]
    },
    {
     "name": "stderr",
     "output_type": "stream",
     "text": [
      "\n"
     ]
    }
   ],
   "source": [
    "t.train(float(lr), n_epochs=6, train_saved_model='e_5-m_lstm-lr_0.01-hs_100-nl-2', version=11)"
   ]
  },
  {
   "cell_type": "code",
   "execution_count": 16,
   "metadata": {},
   "outputs": [
    {
     "name": "stdout",
     "output_type": "stream",
     "text": [
      "AQzRufI3 tm\n",
      "rais o nh\n",
      "ctht\n",
      " rl , ,edtlo  rad\n",
      "in gntan trirh\n",
      "oo das relseitthfng    it\n",
      "hmoap   oo\n",
      "edayyeetlan oa aruo tiaa heei&wehtrh \n",
      "n et ateoee fatey tahetn p io toi  ri ehiousoy hoy\n",
      "ualyeh \n",
      "yw e ehalat e\n",
      "d\n",
      "t oa n a tii\n",
      "artoa r dhs tl:m\n",
      "i bia\n",
      "lrnonesoe rtdom omulkan  dhlre lprtreyt htm \n",
      "atlon'etrllaa lr n he ene  aet r n  ectdezo   \n",
      "trea ee ti raht\n",
      "ba tit roo  neurhhf lfd atedr llt neha e trtophio aha Z r:Iaiti ayo h tf eyeotaae rei auol tss\n",
      "ehmee ibg o aetras  dte i atsoe  i,pesnno e eot ea sr'  nlm \n",
      "tnrettte o taarhoReu hk aa ai I !oeeh taay fhwidutoto  y srtm nis\n",
      " i atalhdl aoettnrc  taio\n",
      "oedra ade eat\n",
      "a o eei  nhthhltm ehat etatreoieedo iaetahe nm \n",
      "sSt\n",
      "r  h ttg heay artoeor  ytaeeo o crmae  tteytagi\n",
      "h lfrnonte n taunlsco oil t  \n",
      "rae tth eiti yasaed\n",
      " ha  tthr ruthtyyc  iia ioht\n",
      "io\n",
      "eea twe  ae,cdrgdrhao,E tinerh s,:e.  etrhfehn dho hpg btm aamaf shtI ltaa a  \n",
      "lo a:tee eh e ydea nI  sth trmtb hhdttestn ttd oX  r oenriI   e osee bhrsaorf  hisirs etQntodore\n",
      "he snhv\n",
      "el h\n",
      "h iuahvya ni' \n"
     ]
    }
   ],
   "source": [
    "print(generate(m2, content_reader=content, predict_len=1000))"
   ]
  }
 ],
 "metadata": {
  "kernelspec": {
   "display_name": "Python 3",
   "language": "python",
   "name": "python3"
  },
  "language_info": {
   "codemirror_mode": {
    "name": "ipython",
    "version": 3
   },
   "file_extension": ".py",
   "mimetype": "text/x-python",
   "name": "python",
   "nbconvert_exporter": "python",
   "pygments_lexer": "ipython3",
   "version": "3.6.5"
  }
 },
 "nbformat": 4,
 "nbformat_minor": 2
}
